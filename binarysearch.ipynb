{
  "nbformat": 4,
  "nbformat_minor": 0,
  "metadata": {
    "colab": {
      "name": "binarysearch.ipynb",
      "provenance": [],
      "authorship_tag": "ABX9TyNb3IKQXojsQtln3ef+s0xY",
      "include_colab_link": true
    },
    "kernelspec": {
      "name": "python3",
      "display_name": "Python 3"
    }
  },
  "cells": [
    {
      "cell_type": "markdown",
      "metadata": {
        "id": "view-in-github",
        "colab_type": "text"
      },
      "source": [
        "<a href=\"https://colab.research.google.com/github/najnin26/Binary_Search/blob/main/binarysearch.ipynb\" target=\"_parent\"><img src=\"https://colab.research.google.com/assets/colab-badge.svg\" alt=\"Open In Colab\"/></a>"
      ]
    },
    {
      "cell_type": "code",
      "metadata": {
        "id": "ri7uj4yPK5XT"
      },
      "source": [
        "#Interactive implementation of binary search \r\n",
        "def binarysearch(arr,l,h,x):\r\n",
        "   while h>=l:\r\n",
        "     mid=l+(h-l)//2\r\n",
        "     if arr[mid]==x:\r\n",
        "       return mid\r\n",
        "     elif arr[mid]>x:\r\n",
        "       h=mid-1\r\n",
        "     else:\r\n",
        "       l=mid+1\r\n",
        "   return -1    "
      ],
      "execution_count": 13,
      "outputs": []
    },
    {
      "cell_type": "code",
      "metadata": {
        "colab": {
          "base_uri": "https://localhost:8080/"
        },
        "id": "Ls3IS4MhLhuI",
        "outputId": "cc949eef-ae4d-42b8-fad0-ccc5d395d412"
      },
      "source": [
        "arr=[int(x) for x in input().split()]\r\n",
        "x=int(input())\r\n",
        "result=binarysearch(arr,0,len(arr)-1,x)\r\n",
        "print(\"The index of the value is {}\".format(result))"
      ],
      "execution_count": 14,
      "outputs": [
        {
          "output_type": "stream",
          "text": [
            "2 3 4 10 40\n",
            "10\n",
            "The index of the value is 3\n"
          ],
          "name": "stdout"
        }
      ]
    },
    {
      "cell_type": "code",
      "metadata": {
        "id": "goGnqmREM7R6"
      },
      "source": [
        ""
      ],
      "execution_count": null,
      "outputs": []
    }
  ]
}