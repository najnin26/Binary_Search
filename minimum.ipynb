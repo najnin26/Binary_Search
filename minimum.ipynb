{
  "nbformat": 4,
  "nbformat_minor": 0,
  "metadata": {
    "colab": {
      "name": "minimum.ipynb",
      "provenance": [],
      "authorship_tag": "ABX9TyNrGg6StLlWVuoVPNtL3Mla",
      "include_colab_link": true
    },
    "kernelspec": {
      "name": "python3",
      "display_name": "Python 3"
    }
  },
  "cells": [
    {
      "cell_type": "markdown",
      "metadata": {
        "id": "view-in-github",
        "colab_type": "text"
      },
      "source": [
        "<a href=\"https://colab.research.google.com/github/najnin26/Binary_Search/blob/main/minimum.ipynb\" target=\"_parent\"><img src=\"https://colab.research.google.com/assets/colab-badge.svg\" alt=\"Open In Colab\"/></a>"
      ]
    },
    {
      "cell_type": "code",
      "metadata": {
        "id": "tSNCYwHoYfSN"
      },
      "source": [
        "#minimum number in a sorted and rotated array using binary search\r\n",
        "def minimum(arr,l,h):\r\n",
        "  while h>l:\r\n",
        "    mid=l+(h-l)//2\r\n",
        "    if arr[mid]==arr[h]:\r\n",
        "      h=h-1\r\n",
        "    elif arr[mid]>arr[h]:\r\n",
        "      l=mid+1\r\n",
        "    else:\r\n",
        "      h=mid\r\n",
        "  return arr[h]        \r\n"
      ],
      "execution_count": null,
      "outputs": []
    },
    {
      "cell_type": "code",
      "metadata": {
        "id": "exk2nOE4bC3u"
      },
      "source": [
        "arr=[2,1]\r\n",
        "result=minimum(arr,0,len(arr)-1)"
      ],
      "execution_count": null,
      "outputs": []
    },
    {
      "cell_type": "code",
      "metadata": {
        "colab": {
          "base_uri": "https://localhost:8080/"
        },
        "id": "ojdOeL-gF3Ac",
        "outputId": "dd5654cc-8632-46e1-d027-1d9a24267eb0"
      },
      "source": [
        "print(\"The minimum number is {}\".format(result))"
      ],
      "execution_count": null,
      "outputs": [
        {
          "output_type": "stream",
          "text": [
            "The minimum number is 1\n"
          ],
          "name": "stdout"
        }
      ]
    },
    {
      "cell_type": "code",
      "metadata": {
        "id": "9v_I9u6TGGYG"
      },
      "source": [
        ""
      ],
      "execution_count": null,
      "outputs": []
    }
  ]
}